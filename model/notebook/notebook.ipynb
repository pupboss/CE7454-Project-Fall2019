{
 "cells": [
  {
   "cell_type": "markdown",
   "metadata": {},
   "source": [
    "# CE7454 Project: Movie Rateing and Box-office Prediction\n",
    "\n",
    "*Group 26: Li Jie, Shen Meng, Wang Ruihang*\n",
    "\n",
    "Welcome to the our project! In this work, we are going to save the viewers and producers from the ocean of movies. Our job is to give a reliable prediction of a movies's rating and box-office before its theatrical release, aiming to offer useful information in an early stage. \n",
    "\n",
    "**In this project, we will:**\n",
    "- Crawl and build our dataset from [IMDB](https://www.imdb.com)\n",
    "- Clean and present the raw data for analysis\n",
    "- Apply different models for movie rating and box-office prediction\n",
    "- Propose our new architecture for further improvement\n",
    "- Compare and analyze the results of each method\n",
    "\n",
    "<table>\n",
    "\n",
    "<img src=\"images/posters.png\" style=\"width:800;height:300px;\">\n",
    "\n",
    "</table>\n",
    "\n",
    "Run the following cell to load the packages and dependencies that are going to be useful for our project."
   ]
  },
  {
   "cell_type": "code",
   "execution_count": 1,
   "metadata": {},
   "outputs": [],
   "source": [
    "import os\n",
    "import requests\n",
    "import numpy as np\n",
    "import pandas as pd\n",
    "import torch\n",
    "import torch.nn as nn\n",
    "import matplotlib.pyplot as plt\n",
    "from matplotlib.pyplot import imshow\n",
    "from torch.utils import data\n",
    "from torchvision import transforms, utils\n",
    "from torch.utils.data import Dataset, DataLoader\n",
    "from PIL import Image\n",
    "\n",
    "%matplotlib inline"
   ]
  },
  {
   "cell_type": "markdown",
   "metadata": {},
   "source": [
    "**Note**: We use the open source deep learning library [Pytorch](https://pytorch.org) to build our models"
   ]
  },
  {
   "cell_type": "markdown",
   "metadata": {},
   "source": [
    "## 1 - Web Scraping for Dataset"
   ]
  },
  {
   "cell_type": "code",
   "execution_count": null,
   "metadata": {},
   "outputs": [],
   "source": []
  },
  {
   "cell_type": "markdown",
   "metadata": {},
   "source": [
    "## 2 - Preprocessing and Visualization"
   ]
  },
  {
   "cell_type": "markdown",
   "metadata": {},
   "source": [
    "In this section, we investigate the impact of different variables on movie rating and box-office revenues. The data we crawled from Internet contains list of movie's information, such as budget, duration, genres, actors, directors, writers, story line, poster and its corresponding rating and box-office. Through preprocessing, the variables can be categorized as three types: *numerical data, vector data and image data*\n",
    "\n",
    "- **Budget**: Budget is a numerical number that represents the financial investment in a movie\n",
    "- **Duration**: Duration is a numerical number that defines the running time of a movie\n",
    "- **Year**: Year is a numerical number that reveals the production time\n",
    "- **Genres**: Movie genre is vector data with corresponding position set to one for a movie belongs to and others to zeros\n",
    "- **Story line**: Story line is a word vector data that contains brief introduction of the movie\n",
    "- **Poster**: Movie poster is a image data that contains potential information to exploit"
   ]
  },
  {
   "cell_type": "markdown",
   "metadata": {},
   "source": [
    "## 3 - Baseline Models"
   ]
  },
  {
   "cell_type": "code",
   "execution_count": null,
   "metadata": {},
   "outputs": [],
   "source": []
  },
  {
   "cell_type": "markdown",
   "metadata": {},
   "source": [
    "## 4 - Proposed Solutions"
   ]
  },
  {
   "cell_type": "code",
   "execution_count": null,
   "metadata": {},
   "outputs": [],
   "source": []
  },
  {
   "cell_type": "markdown",
   "metadata": {},
   "source": [
    "## 5 - Results Analysis"
   ]
  },
  {
   "cell_type": "code",
   "execution_count": null,
   "metadata": {},
   "outputs": [],
   "source": []
  }
 ],
 "metadata": {
  "kernelspec": {
   "display_name": "Python 3",
   "language": "python",
   "name": "python3"
  },
  "language_info": {
   "codemirror_mode": {
    "name": "ipython",
    "version": 3
   },
   "file_extension": ".py",
   "mimetype": "text/x-python",
   "name": "python",
   "nbconvert_exporter": "python",
   "pygments_lexer": "ipython3",
   "version": "3.7.3"
  }
 },
 "nbformat": 4,
 "nbformat_minor": 2
}
