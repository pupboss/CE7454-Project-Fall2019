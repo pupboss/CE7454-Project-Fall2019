{
 "cells": [
  {
   "cell_type": "markdown",
   "metadata": {},
   "source": [
    "# CE7454 Project: Movie Rateing and Box-office Prediction\n",
    "\n",
    "*Group 26: Li Jie, Shen Meng, Wang Ruihang*\n",
    "\n",
    "Welcome to the our project! In this work, we are going to save the viewers and producers from the ocean of movies. Our job is to give a reliable prediction of a movies's rating and box-office before its theatrical release, aiming to offer useful information in an early stage. \n",
    "\n",
    "**In this project, we will:**\n",
    "- Crawl and build our dataset from [IMDB](https://www.imdb.com)\n",
    "- Clean and present the raw data for analysis\n",
    "- Apply different models for movie rating and box-office prediction\n",
    "- Propose our new architecture for further improvement\n",
    "- Compare and analyze the results of each method\n",
    "\n",
    "<table>\n",
    "\n",
    "<img src=\"images/posters.png\" style=\"width:800;height:300px;\">\n",
    "\n",
    "</table>\n",
    "\n",
    "Run the following cell to load the packages and dependencies that are going to be useful for our project."
   ]
  },
  {
   "cell_type": "code",
   "execution_count": 1,
   "metadata": {},
   "outputs": [],
   "source": [
    "import os\n",
    "import requests\n",
    "import numpy as np\n",
    "import pandas as pd\n",
    "import torch\n",
    "import torch.nn as nn\n",
    "import matplotlib.pyplot as plt\n",
    "from matplotlib.pyplot import imshow\n",
    "from torch.utils import data\n",
    "from torchvision import transforms, utils\n",
    "from torch.utils.data import Dataset, DataLoader\n",
    "from PIL import Image\n",
    "\n",
    "%matplotlib inline"
   ]
  },
  {
   "cell_type": "markdown",
   "metadata": {},
   "source": [
    "**Note**: We use the open source deep learning library [Pytorch](https://pytorch.org) to build our models"
   ]
  },
  {
   "cell_type": "markdown",
   "metadata": {},
   "source": [
    "## 1 - Web Scraping for Dataset"
   ]
  },
  {
   "cell_type": "code",
   "execution_count": null,
   "metadata": {},
   "outputs": [],
   "source": []
  },
  {
   "cell_type": "markdown",
   "metadata": {},
   "source": [
    "## 2 - Preprocessing and Visualization"
   ]
  },
  {
   "cell_type": "markdown",
   "metadata": {},
   "source": [
    "In this section, we investigate the impact of different variables on movie rating and box-office revenues. The data we crawled from Internet contains list of movie's information, such as budget, duration, genres, actors, directors, writers, story line, poster and its corresponding rating and box-office. Through preprocessing, the variables can be categorized as three types: *numerical data, vector data and image data*\n",
    "\n",
    "- **Budget**: Budget is a numerical number that represents the financial investment in a movie\n",
    "- **Duration**: Duration is a numerical number that defines the running time of a movie\n",
    "- **Year**: Year is a numerical number that reveals the production time\n",
    "- **Genres**: Movie genre is vector data with corresponding position set to one for a movie belongs to and others to zeros\n",
    "- **Story line**: Story line is a word vector data that contains brief introduction of the movie\n",
    "- **Poster**: Movie poster is a image data that contains potential information to exploit"
   ]
  },
  {
   "cell_type": "code",
   "execution_count": 47,
   "metadata": {},
   "outputs": [
    {
     "data": {
      "text/html": [
       "<div>\n",
       "<style scoped>\n",
       "    .dataframe tbody tr th:only-of-type {\n",
       "        vertical-align: middle;\n",
       "    }\n",
       "\n",
       "    .dataframe tbody tr th {\n",
       "        vertical-align: top;\n",
       "    }\n",
       "\n",
       "    .dataframe thead th {\n",
       "        text-align: right;\n",
       "    }\n",
       "</style>\n",
       "<table border=\"1\" class=\"dataframe\">\n",
       "  <thead>\n",
       "    <tr style=\"text-align: right;\">\n",
       "      <th></th>\n",
       "      <th>Budget</th>\n",
       "      <th>Box_Office</th>\n",
       "      <th>Year</th>\n",
       "      <th>Run_Time</th>\n",
       "      <th>Average_Rating</th>\n",
       "      <th>Num_Voters</th>\n",
       "      <th>Ratio</th>\n",
       "    </tr>\n",
       "  </thead>\n",
       "  <tbody>\n",
       "    <tr>\n",
       "      <th>count</th>\n",
       "      <td>6.567000e+03</td>\n",
       "      <td>6.567000e+03</td>\n",
       "      <td>6567.000000</td>\n",
       "      <td>6567.000000</td>\n",
       "      <td>6567.000000</td>\n",
       "      <td>6.567000e+03</td>\n",
       "      <td>6567.000000</td>\n",
       "    </tr>\n",
       "    <tr>\n",
       "      <th>mean</th>\n",
       "      <td>2.331077e+07</td>\n",
       "      <td>5.699841e+07</td>\n",
       "      <td>2009.421349</td>\n",
       "      <td>105.492005</td>\n",
       "      <td>6.184316</td>\n",
       "      <td>5.698153e+04</td>\n",
       "      <td>1.650018</td>\n",
       "    </tr>\n",
       "    <tr>\n",
       "      <th>std</th>\n",
       "      <td>3.761012e+07</td>\n",
       "      <td>1.406144e+08</td>\n",
       "      <td>5.011153</td>\n",
       "      <td>17.941605</td>\n",
       "      <td>1.084342</td>\n",
       "      <td>1.256721e+05</td>\n",
       "      <td>1.896471</td>\n",
       "    </tr>\n",
       "    <tr>\n",
       "      <th>min</th>\n",
       "      <td>1.000000e+04</td>\n",
       "      <td>5.810000e+02</td>\n",
       "      <td>2000.000000</td>\n",
       "      <td>60.000000</td>\n",
       "      <td>1.100000</td>\n",
       "      <td>5.000000e+00</td>\n",
       "      <td>0.050021</td>\n",
       "    </tr>\n",
       "    <tr>\n",
       "      <th>25%</th>\n",
       "      <td>2.000000e+06</td>\n",
       "      <td>8.021520e+05</td>\n",
       "      <td>2006.000000</td>\n",
       "      <td>93.000000</td>\n",
       "      <td>5.600000</td>\n",
       "      <td>1.099000e+03</td>\n",
       "      <td>0.274666</td>\n",
       "    </tr>\n",
       "    <tr>\n",
       "      <th>50%</th>\n",
       "      <td>8.000000e+06</td>\n",
       "      <td>5.758522e+06</td>\n",
       "      <td>2009.000000</td>\n",
       "      <td>102.000000</td>\n",
       "      <td>6.300000</td>\n",
       "      <td>8.962000e+03</td>\n",
       "      <td>0.922471</td>\n",
       "    </tr>\n",
       "    <tr>\n",
       "      <th>75%</th>\n",
       "      <td>2.700000e+07</td>\n",
       "      <td>4.454230e+07</td>\n",
       "      <td>2014.000000</td>\n",
       "      <td>115.000000</td>\n",
       "      <td>6.900000</td>\n",
       "      <td>5.479400e+04</td>\n",
       "      <td>2.332574</td>\n",
       "    </tr>\n",
       "    <tr>\n",
       "      <th>max</th>\n",
       "      <td>3.210000e+08</td>\n",
       "      <td>2.048360e+09</td>\n",
       "      <td>2018.000000</td>\n",
       "      <td>180.000000</td>\n",
       "      <td>9.400000</td>\n",
       "      <td>2.111245e+06</td>\n",
       "      <td>9.985523</td>\n",
       "    </tr>\n",
       "  </tbody>\n",
       "</table>\n",
       "</div>"
      ],
      "text/plain": [
       "             Budget    Box_Office         Year     Run_Time  Average_Rating  \\\n",
       "count  6.567000e+03  6.567000e+03  6567.000000  6567.000000     6567.000000   \n",
       "mean   2.331077e+07  5.699841e+07  2009.421349   105.492005        6.184316   \n",
       "std    3.761012e+07  1.406144e+08     5.011153    17.941605        1.084342   \n",
       "min    1.000000e+04  5.810000e+02  2000.000000    60.000000        1.100000   \n",
       "25%    2.000000e+06  8.021520e+05  2006.000000    93.000000        5.600000   \n",
       "50%    8.000000e+06  5.758522e+06  2009.000000   102.000000        6.300000   \n",
       "75%    2.700000e+07  4.454230e+07  2014.000000   115.000000        6.900000   \n",
       "max    3.210000e+08  2.048360e+09  2018.000000   180.000000        9.400000   \n",
       "\n",
       "         Num_Voters        Ratio  \n",
       "count  6.567000e+03  6567.000000  \n",
       "mean   5.698153e+04     1.650018  \n",
       "std    1.256721e+05     1.896471  \n",
       "min    5.000000e+00     0.050021  \n",
       "25%    1.099000e+03     0.274666  \n",
       "50%    8.962000e+03     0.922471  \n",
       "75%    5.479400e+04     2.332574  \n",
       "max    2.111245e+06     9.985523  "
      ]
     },
     "execution_count": 47,
     "metadata": {},
     "output_type": "execute_result"
    }
   ],
   "source": [
    "imdb = pd.read_csv('../data/imdb.tsv', sep='\\t')\n",
    "imdb['Ratio'] = imdb['Box_Office'] / (imdb['Budget'] + 1)\n",
    "imdb = imdb.drop(imdb[(imdb['Ratio']>10) | (imdb['Budget'] < 10000) | (imdb['Ratio']<0.05)].index)\n",
    "imdb.describe()"
   ]
  },
  {
   "cell_type": "markdown",
   "metadata": {},
   "source": [
    "We can see that 48.104 percent of movies are profitable."
   ]
  },
  {
   "cell_type": "code",
   "execution_count": 50,
   "metadata": {},
   "outputs": [
    {
     "name": "stdout",
     "output_type": "stream",
     "text": [
      "percentage of profitable movies: 48.104\n"
     ]
    },
    {
     "data": {
      "image/png": "[encoded data removed]",
      "text/plain": [
       "<Figure size 432x288 with 1 Axes>"
      ]
     },
     "metadata": {
      "needs_background": "light"
     },
     "output_type": "display_data"
    }
   ],
   "source": [
    "print(\"percentage of profitable movies: %0.3f\" % float((imdb['Ratio']>1).sum() / len(imdb) * 100))\n",
    "imdb.hist(column=\"Ratio\",bins=1000)\n",
    "plt.show()"
   ]
  },
  {
   "cell_type": "code",
   "execution_count": 51,
   "metadata": {},
   "outputs": [
    {
     "data": {
      "text/plain": [
       "array([[<matplotlib.axes._subplots.AxesSubplot object at 0x12a3d49d0>]],\n",
       "      dtype=object)"
      ]
     },
     "execution_count": 51,
     "metadata": {},
     "output_type": "execute_result"
    },
    {
     "data": {
      "image/png": "[encoded data removed]",
      "text/plain": [
       "<Figure size 432x288 with 1 Axes>"
      ]
     },
     "metadata": {
      "needs_background": "light"
     },
     "output_type": "display_data"
    }
   ],
   "source": [
    "imdb.hist(column=\"Average_Rating\",bins=200)"
   ]
  },
  {
   "cell_type": "code",
   "execution_count": 52,
   "metadata": {},
   "outputs": [
    {
     "data": {
      "image/png": "[encoded data removed]",
      "text/plain": [
       "<Figure size 720x360 with 2 Axes>"
      ]
     },
     "metadata": {
      "needs_background": "light"
     },
     "output_type": "display_data"
    }
   ],
   "source": [
    "plt.figure(figsize=(10,5))\n",
    "plt.subplot(121)\n",
    "plt.hist(imdb[imdb['Ratio']>1]['Average_Rating'].to_numpy(),bins=(200))\n",
    "plt.title(\"Profitable Movies' Rating Distribution\")\n",
    "plt.subplot(122)\n",
    "plt.hist(imdb[imdb['Ratio']<1]['Average_Rating'].to_numpy(), bins = 200)\n",
    "plt.title(\"Unprofitable Movies' Ratin Distribution\")\n",
    "plt.show()"
   ]
  },
  {
   "cell_type": "code",
   "execution_count": 71,
   "metadata": {},
   "outputs": [
    {
     "data": {
      "image/png": "[encoded data removed]",
      "text/plain": [
       "<Figure size 600x400 with 1 Axes>"
      ]
     },
     "metadata": {
      "needs_background": "light"
     },
     "output_type": "display_data"
    }
   ],
   "source": [
    "plt.figure(dpi=100)\n",
    "plt.hist(imdb[imdb['Genre'].str.contains(\"Documentary\")]['Average_Rating'].to_numpy(), bins = 200)\n",
    "plt.show()"
   ]
  },
  {
   "cell_type": "code",
   "execution_count": 75,
   "metadata": {},
   "outputs": [
    {
     "data": {
      "text/plain": [
       "<Figure size 600x400 with 0 Axes>"
      ]
     },
     "metadata": {},
     "output_type": "display_data"
    },
    {
     "data": {
      "image/png": "[encoded data removed]",
      "text/plain": [
       "<Figure size 432x288 with 1 Axes>"
      ]
     },
     "metadata": {
      "needs_background": "light"
     },
     "output_type": "display_data"
    }
   ],
   "source": [
    "plt.figure(dpi=100)\n",
    "imdb.hist(column='Year',bins=18)\n",
    "plt.show()"
   ]
  },
  {
   "cell_type": "code",
   "execution_count": 85,
   "metadata": {},
   "outputs": [
    {
     "name": "stdout",
     "output_type": "stream",
     "text": [
      "Year: 2000 Average Rating: 6.221 movie_num: 189\n",
      "Year: 2001 Average Rating: 6.263 movie_num: 220\n",
      "Year: 2002 Average Rating: 6.182 movie_num: 291\n",
      "Year: 2003 Average Rating: 6.191 movie_num: 265\n",
      "Year: 2004 Average Rating: 6.185 movie_num: 316\n",
      "Year: 2005 Average Rating: 6.185 movie_num: 345\n",
      "Year: 2006 Average Rating: 6.236 movie_num: 408\n",
      "Year: 2007 Average Rating: 6.180 movie_num: 450\n",
      "Year: 2008 Average Rating: 6.188 movie_num: 439\n",
      "Year: 2009 Average Rating: 6.182 movie_num: 424\n",
      "Year: 2010 Average Rating: 6.217 movie_num: 377\n",
      "Year: 2011 Average Rating: 6.038 movie_num: 398\n",
      "Year: 2012 Average Rating: 6.107 movie_num: 357\n",
      "Year: 2013 Average Rating: 6.209 movie_num: 399\n",
      "Year: 2014 Average Rating: 6.155 movie_num: 377\n",
      "Year: 2015 Average Rating: 6.189 movie_num: 354\n",
      "Year: 2016 Average Rating: 6.163 movie_num: 389\n",
      "Year: 2017 Average Rating: 6.257 movie_num: 315\n",
      "Year: 2018 Average Rating: 6.237 movie_num: 254\n"
     ]
    }
   ],
   "source": [
    "for year in range(2000,2019):\n",
    "    rating = imdb[imdb['Year'] == year]['Average_Rating'].sum() \n",
    "    movie_num = (imdb['Year'] == year).sum()\n",
    "    rating /= movie_num\n",
    "    print(\"Year: %d Average Rating: %.3f movie_num: %d\" % (year, rating, movie_num))"
   ]
  },
  {
   "cell_type": "code",
   "execution_count": 121,
   "metadata": {},
   "outputs": [
    {
     "name": "stdout",
     "output_type": "stream",
     "text": [
      "Run_time: 60 Average Rating: 6.933 movie_num: 6\n",
      "Run_time: 65 Average Rating: 6.550 movie_num: 8\n",
      "Run_time: 70 Average Rating: 5.809 movie_num: 35\n",
      "Run_time: 75 Average Rating: 5.881 movie_num: 96\n",
      "Run_time: 80 Average Rating: 5.718 movie_num: 298\n",
      "Run_time: 85 Average Rating: 5.702 movie_num: 587\n",
      "Run_time: 90 Average Rating: 5.825 movie_num: 911\n",
      "Run_time: 95 Average Rating: 6.004 movie_num: 901\n",
      "Run_time: 100 Average Rating: 6.127 movie_num: 812\n",
      "Run_time: 105 Average Rating: 6.251 movie_num: 665\n",
      "Run_time: 110 Average Rating: 6.360 movie_num: 539\n",
      "Run_time: 115 Average Rating: 6.553 movie_num: 438\n",
      "Run_time: 120 Average Rating: 6.571 movie_num: 352\n",
      "Run_time: 125 Average Rating: 6.693 movie_num: 236\n",
      "Run_time: 130 Average Rating: 6.910 movie_num: 196\n",
      "Run_time: 135 Average Rating: 6.654 movie_num: 134\n",
      "Run_time: 140 Average Rating: 6.902 movie_num: 112\n",
      "Run_time: 145 Average Rating: 6.843 movie_num: 61\n",
      "Run_time: 150 Average Rating: 6.725 movie_num: 55\n",
      "Run_time: 155 Average Rating: 6.836 movie_num: 42\n",
      "Run_time: 160 Average Rating: 6.631 movie_num: 32\n",
      "Run_time: 165 Average Rating: 7.214 movie_num: 22\n",
      "Run_time: 170 Average Rating: 6.562 movie_num: 16\n",
      "Run_time: 175 Average Rating: 7.286 movie_num: 7\n",
      "Run_time: 180 Average Rating: 6.617 movie_num: 6\n"
     ]
    },
    {
     "data": {
      "text/plain": [
       "<matplotlib.collections.PathCollection at 0x136fe3b90>"
      ]
     },
     "execution_count": 121,
     "metadata": {},
     "output_type": "execute_result"
    },
    {
     "data": {
      "image/png": "[encoded data removed]",
      "text/plain": [
       "<Figure size 1200x800 with 1 Axes>"
      ]
     },
     "metadata": {
      "needs_background": "light"
     },
     "output_type": "display_data"
    }
   ],
   "source": [
    "for run_time in range(60,181,5):\n",
    "    rating = imdb[(imdb['Run_Time'] >= run_time) & (imdb['Run_Time'] < run_time+5)]['Average_Rating'].sum() \n",
    "    movie_num = ((imdb['Run_Time'] >= run_time) & (imdb['Run_Time'] < run_time+5)).sum()\n",
    "    rating /= movie_num\n",
    "    print(\"Run_time: %d Average Rating: %.3f movie_num: %d\" % (run_time, rating, movie_num))\n",
    "plt.figure(dpi=200)   \n",
    "plt.scatter(imdb['Run_Time'].to_numpy(), imdb['Average_Rating'].to_numpy(), s=0.5,alpha=0.2)"
   ]
  },
  {
   "cell_type": "markdown",
   "metadata": {},
   "source": [
    "## 3 - Baseline Models"
   ]
  },
  {
   "cell_type": "code",
   "execution_count": null,
   "metadata": {},
   "outputs": [],
   "source": []
  },
  {
   "cell_type": "markdown",
   "metadata": {},
   "source": [
    "## 4 - Proposed Solutions"
   ]
  },
  {
   "cell_type": "code",
   "execution_count": null,
   "metadata": {},
   "outputs": [],
   "source": []
  },
  {
   "cell_type": "markdown",
   "metadata": {},
   "source": [
    "## 5 - Results Analysis"
   ]
  },
  {
   "cell_type": "code",
   "execution_count": null,
   "metadata": {},
   "outputs": [],
   "source": []
  }
 ],
 "metadata": {
  "kernelspec": {
   "display_name": "Python 3",
   "language": "python",
   "name": "python3"
  },
  "language_info": {
   "codemirror_mode": {
    "name": "ipython",
    "version": 3
   },
   "file_extension": ".py",
   "mimetype": "text/x-python",
   "name": "python",
   "nbconvert_exporter": "python",
   "pygments_lexer": "ipython3",
   "version": "3.7.5"
  }
 },
 "nbformat": 4,
 "nbformat_minor": 2
}
