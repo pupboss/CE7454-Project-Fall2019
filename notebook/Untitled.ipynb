{
 "cells": [
  {
   "cell_type": "markdown",
   "metadata": {},
   "source": [
    "## Download Exsiting Dataset and Seperate the Movie Items\n",
    "\n",
    "If you want to reproduce the code, please download and extract the following dataset, and put it into the `data` folder.\n",
    "\n",
    "- https://datasets.imdbws.com/title.basics.tsv.gz\n",
    "- https://datasets.imdbws.com/title.crew.tsv.gz\n",
    "- https://datasets.imdbws.com/title.ratings.tsv.gz\n",
    "\n",
    "#### Because in raw title.basics there are not only movies, but also tv series and etc.\n",
    "\n",
    "First we have to filter the data we wanted, to seperate the movies data part, the movie data will be stored in `movie_list.csv`."
   ]
  },
  {
   "cell_type": "code",
   "execution_count": 5,
   "metadata": {},
   "outputs": [
    {
     "name": "stderr",
     "output_type": "stream",
     "text": [
      "6218835it [00:06, 996745.23it/s] \n"
     ]
    }
   ],
   "source": [
    "from tqdm import tqdm\n",
    "\n",
    "file_basics = open('../data/title.basics.tsv','r')\n",
    "file_movie_list = open('../data/movie_list.tsv','w')\n",
    "\n",
    "# write header\n",
    "line = file_basics.readline().split('\\t')\n",
    "file_movie_list.write('\\t'.join([line[0],line[2],line[5],line[7],line[8]]))\n",
    "\n",
    "# filter out all the movies with available Year Run_time\n",
    "for line in tqdm(file_basics):\n",
    "    line = line.split('\\t')\n",
    "    if line[1] == 'movie' and line[2]!='\\\\N' and line[5]!='\\\\N' and line[7]!='\\\\N':\n",
    "        file_movie_list.write('\\t'.join([line[0],line[2],line[5],line[7],line[8]]))\n",
    "file_basics.close()\n",
    "file_movie_list.close()"
   ]
  },
  {
   "cell_type": "markdown",
   "metadata": {},
   "source": [
    "### 1.2 Overview of the Movie Data\n",
    "\n",
    "After we filter out movies, let us see the distribution of movies on Years and Run time"
   ]
  },
  {
   "cell_type": "code",
   "execution_count": 6,
   "metadata": {},
   "outputs": [
    {
     "data": {
      "text/html": [
       "<div>\n",
       "<style scoped>\n",
       "    .dataframe tbody tr th:only-of-type {\n",
       "        vertical-align: middle;\n",
       "    }\n",
       "\n",
       "    .dataframe tbody tr th {\n",
       "        vertical-align: top;\n",
       "    }\n",
       "\n",
       "    .dataframe thead th {\n",
       "        text-align: right;\n",
       "    }\n",
       "</style>\n",
       "<table border=\"1\" class=\"dataframe\">\n",
       "  <thead>\n",
       "    <tr style=\"text-align: right;\">\n",
       "      <th></th>\n",
       "      <th>startYear</th>\n",
       "      <th>runtimeMinutes</th>\n",
       "    </tr>\n",
       "  </thead>\n",
       "  <tbody>\n",
       "    <tr>\n",
       "      <th>count</th>\n",
       "      <td>329291.000000</td>\n",
       "      <td>329291.000000</td>\n",
       "    </tr>\n",
       "    <tr>\n",
       "      <th>mean</th>\n",
       "      <td>1992.112016</td>\n",
       "      <td>88.330622</td>\n",
       "    </tr>\n",
       "    <tr>\n",
       "      <th>std</th>\n",
       "      <td>25.882660</td>\n",
       "      <td>146.499533</td>\n",
       "    </tr>\n",
       "    <tr>\n",
       "      <th>min</th>\n",
       "      <td>1894.000000</td>\n",
       "      <td>1.000000</td>\n",
       "    </tr>\n",
       "    <tr>\n",
       "      <th>25%</th>\n",
       "      <td>1976.000000</td>\n",
       "      <td>72.000000</td>\n",
       "    </tr>\n",
       "    <tr>\n",
       "      <th>50%</th>\n",
       "      <td>2003.000000</td>\n",
       "      <td>88.000000</td>\n",
       "    </tr>\n",
       "    <tr>\n",
       "      <th>75%</th>\n",
       "      <td>2013.000000</td>\n",
       "      <td>100.000000</td>\n",
       "    </tr>\n",
       "    <tr>\n",
       "      <th>max</th>\n",
       "      <td>2022.000000</td>\n",
       "      <td>59460.000000</td>\n",
       "    </tr>\n",
       "  </tbody>\n",
       "</table>\n",
       "</div>"
      ],
      "text/plain": [
       "           startYear  runtimeMinutes\n",
       "count  329291.000000   329291.000000\n",
       "mean     1992.112016       88.330622\n",
       "std        25.882660      146.499533\n",
       "min      1894.000000        1.000000\n",
       "25%      1976.000000       72.000000\n",
       "50%      2003.000000       88.000000\n",
       "75%      2013.000000      100.000000\n",
       "max      2022.000000    59460.000000"
      ]
     },
     "execution_count": 6,
     "metadata": {},
     "output_type": "execute_result"
    }
   ],
   "source": [
    "import pandas as pd\n",
    "file_movie_list = pd.read_csv('../data/movie_list.tsv', delimiter='\\t')\n",
    "file_movie_list.describe()"
   ]
  },
  {
   "cell_type": "code",
   "execution_count": 8,
   "metadata": {},
   "outputs": [
    {
     "data": {
      "image/png": "[encoded data removed]",
      "text/plain": [
       "<Figure size 1080x720 with 1 Axes>"
      ]
     },
     "metadata": {
      "needs_background": "light"
     },
     "output_type": "display_data"
    }
   ],
   "source": [
    "import matplotlib.pyplot as plt\n",
    "file_movie_list.hist(column=\"startYear\",figsize=(15,10),bins=256)\n",
    "plt.show()"
   ]
  },
  {
   "cell_type": "markdown",
   "metadata": {},
   "source": [
    "### 1.3 Select the movies from 2000 to 2018 and with run time between 1 hour to 3 hours \n",
    "\n",
    "According to the year distribution, we are going to keep the data which release years are between 2000 to 2018, and running times are between 60mins to 180 mins."
   ]
  },
  {
   "cell_type": "code",
   "execution_count": 17,
   "metadata": {},
   "outputs": [],
   "source": [
    "file_movie_list[(file_movie_list['startYear']>=2000) &\n",
    "                (file_movie_list['startYear']<=2018) &\n",
    "                (file_movie_list['runtimeMinutes']<=180) &\n",
    "                (file_movie_list['runtimeMinutes']>=60)].to_csv(\n",
    "    '../data/movie_2000_to_2018.tsv', sep='\\t', index=None)"
   ]
  },
  {
   "cell_type": "code",
   "execution_count": 18,
   "metadata": {},
   "outputs": [
    {
     "data": {
      "text/html": [
       "<div>\n",
       "<style scoped>\n",
       "    .dataframe tbody tr th:only-of-type {\n",
       "        vertical-align: middle;\n",
       "    }\n",
       "\n",
       "    .dataframe tbody tr th {\n",
       "        vertical-align: top;\n",
       "    }\n",
       "\n",
       "    .dataframe thead th {\n",
       "        text-align: right;\n",
       "    }\n",
       "</style>\n",
       "<table border=\"1\" class=\"dataframe\">\n",
       "  <thead>\n",
       "    <tr style=\"text-align: right;\">\n",
       "      <th></th>\n",
       "      <th>startYear</th>\n",
       "      <th>runtimeMinutes</th>\n",
       "    </tr>\n",
       "  </thead>\n",
       "  <tbody>\n",
       "    <tr>\n",
       "      <th>count</th>\n",
       "      <td>140853.000000</td>\n",
       "      <td>140853.000000</td>\n",
       "    </tr>\n",
       "    <tr>\n",
       "      <th>mean</th>\n",
       "      <td>2011.176482</td>\n",
       "      <td>93.231049</td>\n",
       "    </tr>\n",
       "    <tr>\n",
       "      <th>std</th>\n",
       "      <td>4.991285</td>\n",
       "      <td>20.118494</td>\n",
       "    </tr>\n",
       "    <tr>\n",
       "      <th>min</th>\n",
       "      <td>2000.000000</td>\n",
       "      <td>60.000000</td>\n",
       "    </tr>\n",
       "    <tr>\n",
       "      <th>25%</th>\n",
       "      <td>2008.000000</td>\n",
       "      <td>80.000000</td>\n",
       "    </tr>\n",
       "    <tr>\n",
       "      <th>50%</th>\n",
       "      <td>2012.000000</td>\n",
       "      <td>90.000000</td>\n",
       "    </tr>\n",
       "    <tr>\n",
       "      <th>75%</th>\n",
       "      <td>2015.000000</td>\n",
       "      <td>102.000000</td>\n",
       "    </tr>\n",
       "    <tr>\n",
       "      <th>max</th>\n",
       "      <td>2018.000000</td>\n",
       "      <td>180.000000</td>\n",
       "    </tr>\n",
       "  </tbody>\n",
       "</table>\n",
       "</div>"
      ],
      "text/plain": [
       "           startYear  runtimeMinutes\n",
       "count  140853.000000   140853.000000\n",
       "mean     2011.176482       93.231049\n",
       "std         4.991285       20.118494\n",
       "min      2000.000000       60.000000\n",
       "25%      2008.000000       80.000000\n",
       "50%      2012.000000       90.000000\n",
       "75%      2015.000000      102.000000\n",
       "max      2018.000000      180.000000"
      ]
     },
     "execution_count": 18,
     "metadata": {},
     "output_type": "execute_result"
    }
   ],
   "source": [
    "file_movie_list = pd.read_csv('../data/movie_2000_to_2018.tsv', delimiter='\\t')\n",
    "file_movie_list.describe()"
   ]
  },
  {
   "cell_type": "code",
   "execution_count": 12,
   "metadata": {},
   "outputs": [
    {
     "data": {
      "image/png": "[encoded data removed]",
      "text/plain": [
       "<Figure size 1080x720 with 1 Axes>"
      ]
     },
     "metadata": {
      "needs_background": "light"
     },
     "output_type": "display_data"
    }
   ],
   "source": [
    "file_movie_list.hist(column=\"startYear\",figsize=(15,10),bins=37)\n",
    "plt.show()"
   ]
  },
  {
   "cell_type": "markdown",
   "metadata": {},
   "source": [
    "### 1.4 Add Some Fields from Another Dataset\n",
    "\n",
    "Then we add writers, directors from title.crew.tsv to this data set and save it to `movie_2000_to_2018_add_crew.tsv`."
   ]
  },
  {
   "cell_type": "code",
   "execution_count": 15,
   "metadata": {},
   "outputs": [
    {
     "name": "stderr",
     "output_type": "stream",
     "text": [
      "140853it [00:07, 18483.98it/s]\n"
     ]
    }
   ],
   "source": [
    "file_crew = open('../data/title.crew.tsv','r')\n",
    "file_movie_2000_to_2018 = open('../data/movie_2000_to_2018.tsv','r')\n",
    "file_movie_2000_to_2018_add_crew = open('../data/movie_2000_to_2018_add_crew.tsv','w')\n",
    "_ = file_crew.readline()\n",
    "_ = file_movie_2000_to_2018.readline()\n",
    "file_movie_2000_to_2018_add_crew.write(\"tconst\tprimaryTitle\tstartYear\truntimeMinutes\tgenres\tdirectors\twriters\\n\")\n",
    "for line in tqdm(file_movie_2000_to_2018):\n",
    "    tt = line.split('\\t')[0]\n",
    "    tt_num = int(tt.split('tt')[1] + '0' * (10-len(tt)))\n",
    "    while True:\n",
    "        line_crew = file_crew.readline()\n",
    "        line_crew = line_crew.split('\\t')\n",
    "        crew_tt = line_crew[0]\n",
    "        if int(crew_tt.split('tt')[1]+ '0' * (10-len(crew_tt))) >= tt_num:\n",
    "            break    \n",
    "    if int(crew_tt.split('tt')[1]+ '0' * (10-len(crew_tt))) > tt_num:\n",
    "        continue  \n",
    "    directors = line_crew[1]\n",
    "    writers = line_crew[2].split('\\n')[0]\n",
    "    new_line = [line.split('\\n')[0], directors, writers]\n",
    "    new_line = '\\t'.join(new_line) + '\\n'\n",
    "    file_movie_2000_to_2018_add_crew.write(new_line)\n",
    "    \n",
    "file_crew.close()\n",
    "file_movie_2000_to_2018.close()\n",
    "file_movie_2000_to_2018_add_crew.close() "
   ]
  },
  {
   "cell_type": "markdown",
   "metadata": {},
   "source": [
    "Then we add rating, numVoters from title.ratings.tsv to this data set and save it to `movie_2000_to_2018_add_crew_rating.tsv`."
   ]
  },
  {
   "cell_type": "code",
   "execution_count": 16,
   "metadata": {},
   "outputs": [
    {
     "name": "stderr",
     "output_type": "stream",
     "text": [
      "140719it [00:01, 87971.48it/s]\n"
     ]
    }
   ],
   "source": [
    "file_ratings = open('../data/title.ratings.tsv','r')\n",
    "file_movie_2000_to_2018_add_crew = open('../data/movie_2000_to_2018_add_crew.tsv','r')\n",
    "file_movie_2000_to_2018_add_crew_rating = open('../data/movie_2000_to_2018_add_crew_rating.tsv','w')\n",
    "_ = file_ratings.readline()\n",
    "_ = file_movie_2000_to_2018_add_crew.readline()\n",
    "file_movie_2000_to_2018_add_crew_rating.write(\"tconst\tprimaryTitle\tstartYear\truntimeMinutes\tgenres\tdirectors\twriters\tratings\tnumVoters\\n\")\n",
    "for line in tqdm(file_movie_2000_to_2018_add_crew):\n",
    "    tt = line.split('\\t')[0]\n",
    "    tt_num = int(tt.split('tt')[1] + '0' * (10-len(tt)))\n",
    "    while True:\n",
    "        line_ratings = file_ratings.readline()\n",
    "        line_ratings = line_ratings.split('\\t')\n",
    "        ratings_tt = line_ratings[0]\n",
    "        if int(ratings_tt.split('tt')[1]+ '0' * (10-len(ratings_tt))) >= tt_num:\n",
    "            break    \n",
    "    if int(ratings_tt.split('tt')[1]+ '0' * (10-len(ratings_tt))) > tt_num:\n",
    "        continue  \n",
    "    Rating = line_ratings[1]\n",
    "    numVoters = line_ratings[2].split('\\n')[0]\n",
    "    new_line = [line.split('\\n')[0], Rating, numVoters]\n",
    "    new_line = '\\t'.join(new_line) + '\\n'\n",
    "    file_movie_2000_to_2018_add_crew_rating.write(new_line)\n",
    "\n",
    "file_ratings.close()\n",
    "file_movie_2000_to_2018_add_crew.close()\n",
    "file_movie_2000_to_2018_add_crew_rating.close()"
   ]
  },
  {
   "cell_type": "code",
   "execution_count": null,
   "metadata": {},
   "outputs": [],
   "source": []
  }
 ],
 "metadata": {
  "kernelspec": {
   "display_name": "Python [conda env:meng] *",
   "language": "python",
   "name": "conda-env-meng-py"
  },
  "language_info": {
   "codemirror_mode": {
    "name": "ipython",
    "version": 3
   },
   "file_extension": ".py",
   "mimetype": "text/x-python",
   "name": "python",
   "nbconvert_exporter": "python",
   "pygments_lexer": "ipython3",
   "version": "3.7.5"
  }
 },
 "nbformat": 4,
 "nbformat_minor": 2
}
