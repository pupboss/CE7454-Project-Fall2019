{
 "cells": [
  {
   "cell_type": "markdown",
   "metadata": {},
   "source": [
    "## Download Exsiting Dataset and Seperate the Movie Items\n",
    "\n",
    "If you want to reproduce the code, please download and extract the following dataset, and put it into the `data` folder.\n",
    "\n",
    "- https://datasets.imdbws.com/title.basics.tsv.gz\n",
    "- https://datasets.imdbws.com/title.crew.tsv.gz\n",
    "- https://datasets.imdbws.com/title.ratings.tsv.gz\n",
    "\n",
    "### 1.1 Because in raw title.basics there are not only movies, but also tv series and etc.\n",
    "\n",
    "First we have to filter out all the movies, the movie data will be stored in `movie_list.csv`."
   ]
  },
  {
   "cell_type": "code",
   "execution_count": 3,
   "metadata": {},
   "outputs": [
    {
     "name": "stderr",
     "output_type": "stream",
     "text": [
      "6305604it [00:06, 985586.01it/s] \n"
     ]
    }
   ],
   "source": [
    "from tqdm import tqdm\n",
    "\n",
    "file_basics = open('../data/title.basics.tsv','r')\n",
    "file_movie_list = open('../data/movie_list.tsv','w')\n",
    "\n",
    "# write header\n",
    "line = file_basics.readline().split('\\t')\n",
    "file_movie_list.write('\\t'.join([line[0],line[2],line[5],line[7],line[8]]))\n",
    "\n",
    "# filter out all the movies with available Year Run_time\n",
    "for line in tqdm(file_basics):\n",
    "    line = line.split('\\t')\n",
    "    if line[1] == 'movie' and line[2]!='\\\\N' and line[5]!='\\\\N' and line[7]!='\\\\N':\n",
    "        file_movie_list.write('\\t'.join([line[0],line[2],line[5],line[7],line[8]]))\n",
    "file_basics.close()\n",
    "file_movie_list.close()"
   ]
  },
  {
   "cell_type": "markdown",
   "metadata": {},
   "source": [
    "### 1.2 Overview of the Movie Data\n",
    "\n",
    "After we filter out movies, let us see the distribution of movies on Years and Run time"
   ]
  },
  {
   "cell_type": "code",
   "execution_count": 4,
   "metadata": {},
   "outputs": [
    {
     "data": {
      "text/html": [
       "<div>\n",
       "<style scoped>\n",
       "    .dataframe tbody tr th:only-of-type {\n",
       "        vertical-align: middle;\n",
       "    }\n",
       "\n",
       "    .dataframe tbody tr th {\n",
       "        vertical-align: top;\n",
       "    }\n",
       "\n",
       "    .dataframe thead th {\n",
       "        text-align: right;\n",
       "    }\n",
       "</style>\n",
       "<table border=\"1\" class=\"dataframe\">\n",
       "  <thead>\n",
       "    <tr style=\"text-align: right;\">\n",
       "      <th></th>\n",
       "      <th>startYear</th>\n",
       "      <th>runtimeMinutes</th>\n",
       "    </tr>\n",
       "  </thead>\n",
       "  <tbody>\n",
       "    <tr>\n",
       "      <th>count</th>\n",
       "      <td>331670.000000</td>\n",
       "      <td>331670.000000</td>\n",
       "    </tr>\n",
       "    <tr>\n",
       "      <th>mean</th>\n",
       "      <td>1992.222884</td>\n",
       "      <td>88.333259</td>\n",
       "    </tr>\n",
       "    <tr>\n",
       "      <th>std</th>\n",
       "      <td>25.896457</td>\n",
       "      <td>145.964690</td>\n",
       "    </tr>\n",
       "    <tr>\n",
       "      <th>min</th>\n",
       "      <td>1894.000000</td>\n",
       "      <td>1.000000</td>\n",
       "    </tr>\n",
       "    <tr>\n",
       "      <th>25%</th>\n",
       "      <td>1976.000000</td>\n",
       "      <td>72.000000</td>\n",
       "    </tr>\n",
       "    <tr>\n",
       "      <th>50%</th>\n",
       "      <td>2003.000000</td>\n",
       "      <td>88.000000</td>\n",
       "    </tr>\n",
       "    <tr>\n",
       "      <th>75%</th>\n",
       "      <td>2013.000000</td>\n",
       "      <td>100.000000</td>\n",
       "    </tr>\n",
       "    <tr>\n",
       "      <th>max</th>\n",
       "      <td>2023.000000</td>\n",
       "      <td>59460.000000</td>\n",
       "    </tr>\n",
       "  </tbody>\n",
       "</table>\n",
       "</div>"
      ],
      "text/plain": [
       "           startYear  runtimeMinutes\n",
       "count  331670.000000   331670.000000\n",
       "mean     1992.222884       88.333259\n",
       "std        25.896457      145.964690\n",
       "min      1894.000000        1.000000\n",
       "25%      1976.000000       72.000000\n",
       "50%      2003.000000       88.000000\n",
       "75%      2013.000000      100.000000\n",
       "max      2023.000000    59460.000000"
      ]
     },
     "execution_count": 4,
     "metadata": {},
     "output_type": "execute_result"
    }
   ],
   "source": [
    "import pandas as pd\n",
    "file_movie_list = pd.read_csv('../data/movie_list.tsv', delimiter='\\t')\n",
    "file_movie_list.describe()"
   ]
  },
  {
   "cell_type": "code",
   "execution_count": 6,
   "metadata": {},
   "outputs": [
    {
     "data": {
      "image/png": "[encoded data removed]",
      "text/plain": [
       "<Figure size 1080x720 with 1 Axes>"
      ]
     },
     "metadata": {
      "needs_background": "light"
     },
     "output_type": "display_data"
    }
   ],
   "source": [
    "import matplotlib.pyplot as plt\n",
    "file_movie_list.hist(column=\"startYear\",figsize=(15,10),bins=256)\n",
    "plt.xlabel(\"start year\")\n",
    "plt.ylabel(\"num of movies\")\n",
    "plt.show()"
   ]
  },
  {
   "cell_type": "markdown",
   "metadata": {},
   "source": [
    "### 1.3 Select the movies from 2000 to 2018 and with run time between 1 hour to 3 hours \n",
    "\n",
    "According to the year distribution, we are going to keep the data which release years are between 2000 to 2018, and running times are between 60mins to 180 mins."
   ]
  },
  {
   "cell_type": "code",
   "execution_count": 7,
   "metadata": {},
   "outputs": [],
   "source": [
    "file_movie_list[(file_movie_list['startYear']>=2000) &\n",
    "                (file_movie_list['startYear']<=2018) &\n",
    "                (file_movie_list['runtimeMinutes']<=180) &\n",
    "                (file_movie_list['runtimeMinutes']>=60)].to_csv(\n",
    "    '../data/movie_2000_to_2018.tsv', sep='\\t', index=None)"
   ]
  },
  {
   "cell_type": "code",
   "execution_count": 8,
   "metadata": {},
   "outputs": [
    {
     "data": {
      "text/html": [
       "<div>\n",
       "<style scoped>\n",
       "    .dataframe tbody tr th:only-of-type {\n",
       "        vertical-align: middle;\n",
       "    }\n",
       "\n",
       "    .dataframe tbody tr th {\n",
       "        vertical-align: top;\n",
       "    }\n",
       "\n",
       "    .dataframe thead th {\n",
       "        text-align: right;\n",
       "    }\n",
       "</style>\n",
       "<table border=\"1\" class=\"dataframe\">\n",
       "  <thead>\n",
       "    <tr style=\"text-align: right;\">\n",
       "      <th></th>\n",
       "      <th>startYear</th>\n",
       "      <th>runtimeMinutes</th>\n",
       "    </tr>\n",
       "  </thead>\n",
       "  <tbody>\n",
       "    <tr>\n",
       "      <th>count</th>\n",
       "      <td>141262.000000</td>\n",
       "      <td>141262.000000</td>\n",
       "    </tr>\n",
       "    <tr>\n",
       "      <th>mean</th>\n",
       "      <td>2011.184537</td>\n",
       "      <td>93.255405</td>\n",
       "    </tr>\n",
       "    <tr>\n",
       "      <th>std</th>\n",
       "      <td>4.993632</td>\n",
       "      <td>20.154234</td>\n",
       "    </tr>\n",
       "    <tr>\n",
       "      <th>min</th>\n",
       "      <td>2000.000000</td>\n",
       "      <td>60.000000</td>\n",
       "    </tr>\n",
       "    <tr>\n",
       "      <th>25%</th>\n",
       "      <td>2008.000000</td>\n",
       "      <td>80.000000</td>\n",
       "    </tr>\n",
       "    <tr>\n",
       "      <th>50%</th>\n",
       "      <td>2012.000000</td>\n",
       "      <td>90.000000</td>\n",
       "    </tr>\n",
       "    <tr>\n",
       "      <th>75%</th>\n",
       "      <td>2015.000000</td>\n",
       "      <td>102.000000</td>\n",
       "    </tr>\n",
       "    <tr>\n",
       "      <th>max</th>\n",
       "      <td>2018.000000</td>\n",
       "      <td>180.000000</td>\n",
       "    </tr>\n",
       "  </tbody>\n",
       "</table>\n",
       "</div>"
      ],
      "text/plain": [
       "           startYear  runtimeMinutes\n",
       "count  141262.000000   141262.000000\n",
       "mean     2011.184537       93.255405\n",
       "std         4.993632       20.154234\n",
       "min      2000.000000       60.000000\n",
       "25%      2008.000000       80.000000\n",
       "50%      2012.000000       90.000000\n",
       "75%      2015.000000      102.000000\n",
       "max      2018.000000      180.000000"
      ]
     },
     "execution_count": 8,
     "metadata": {},
     "output_type": "execute_result"
    }
   ],
   "source": [
    "file_movie_list = pd.read_csv('../data/movie_2000_to_2018.tsv', delimiter='\\t')\n",
    "file_movie_list.describe()"
   ]
  },
  {
   "cell_type": "code",
   "execution_count": 34,
   "metadata": {},
   "outputs": [
    {
     "data": {
      "image/png": "[encoded data removed]",
      "text/plain": [
       "<Figure size 1080x216 with 1 Axes>"
      ]
     },
     "metadata": {
      "needs_background": "light"
     },
     "output_type": "display_data"
    }
   ],
   "source": [
    "import numpy as np\n",
    "plt.figure(figsize=(15,3))\n",
    "year = np.arange(2000,2019)\n",
    "plt.hist(file_movie_list[\"startYear\"], bins=37)\n",
    "plt.xticks(year)\n",
    "plt.xlabel(\"Year\")\n",
    "plt.ylabel(\"Number of Movies\")\n",
    "plt.show()"
   ]
  },
  {
   "cell_type": "markdown",
   "metadata": {},
   "source": [
    "### 1.4 Add Some Fields from Another Dataset\n",
    "\n",
    "Then we add writers, directors from title.crew.tsv to this data set and save it to `movie_2000_to_2018_add_crew.tsv`."
   ]
  },
  {
   "cell_type": "code",
   "execution_count": 8,
   "metadata": {},
   "outputs": [],
   "source": [
    "file_crew = pd.read_csv('../data/title.crew.tsv', sep='\\t', index_col=0)\n",
    "file_movie_2000_to_2018 = pd.read_csv('../data/movie_2000_to_2018.tsv', sep='\\t', index_col=0)\n",
    "\n",
    "file_movie_2000_to_2018_add_crew = pd.concat([file_movie_2000_to_2018, file_crew], axis=1, join=\"inner\")\n",
    "file_movie_2000_to_2018_add_crew.to_csv(\"../data/movie_2000_to_2018_add_crew.tsv\", sep='\\t')"
   ]
  },
  {
   "cell_type": "markdown",
   "metadata": {},
   "source": [
    "Then we add rating, numVoters from title.ratings.tsv to this data set and save it to `movie_2000_to_2018_add_crew_rating.tsv`."
   ]
  },
  {
   "cell_type": "code",
   "execution_count": 9,
   "metadata": {},
   "outputs": [],
   "source": [
    "file_ratings = pd.read_csv('../data/title.ratings.tsv', sep='\\t', index_col=0)\n",
    "file_movie_2000_to_2018_add_crew = pd.read_csv('../data/movie_2000_to_2018_add_crew.tsv', sep='\\t', index_col=0)\n",
    "\n",
    "file_movie_2000_to_2018_add_crew_rating = pd.concat([file_movie_2000_to_2018_add_crew, file_ratings], axis=1, join=\"inner\")\n",
    "file_movie_2000_to_2018_add_crew_rating.to_csv(\"../data/movie_2000_to_2018_add_crew_rating.tsv\", sep='\\t')"
   ]
  },
  {
   "cell_type": "markdown",
   "metadata": {},
   "source": [
    "### 1.5 Run Crawler to Fetch More Related Information\n",
    "\n",
    "Till now, we have the latest dataset `file_movie_2000_to_2018_part_2` including crew, rating information.\n",
    "\n",
    "The next step is to run the crawler, and retrieve poster and other information such as budget, box office, storyline and stars from IMDb webpages.\n",
    "\n",
    "```\n",
    "cd project-folder/crawler\n",
    "\n",
    "pip3 install -r requirements.txt\n",
    "\n",
    "python spider.py\n",
    "```\n",
    "\n",
    "Then you will get two new files named `spider_info` and `spider_storyline` in crawler dir.\n",
    "And the posters are stored at `data/posters`"
   ]
  },
  {
   "cell_type": "markdown",
   "metadata": {},
   "source": [
    "### 1.6 Exchange different currencies into USD type\n",
    "\n",
    "In spider_info, there are other currencies like EUR that need to be changed into USD.\n",
    "\n",
    "To simplify the task, I took the average of each currency to USD ratio in 2000 and 2018 found on Yahoo as the exchange rate."
   ]
  },
  {
   "cell_type": "code",
   "execution_count": 10,
   "metadata": {},
   "outputs": [
    {
     "name": "stdout",
     "output_type": "stream",
     "text": [
      "{'EUR': 1667, 'FRF': 39, 'AUD': 81, 'DEM': 14, 'CAD': 94, 'BRL': 72, 'SEK': 51, 'GBP': 208, 'ITL': 3, 'CZK': 29, 'INR': 285, 'FIM': 6, 'NLG': 1, 'ATS': 1, 'CNY': 56, 'HKD': 34, 'DKK': 53, 'BND': 1, 'NOK': 108, 'ESP': 1, 'HUF': 29, 'JPY': 20, 'ZAR': 36, 'SGD': 24, 'PLN': 35, 'KRW': 31, 'EGP': 30, 'EEK': 3, 'THB': 18, 'MXN': 26, 'NZD': 19, 'CHF': 7, 'TWD': 15, 'BGL': 5, 'LVL': 5, 'RUR': 32, 'MYR': 21, 'PHP': 7, 'TRL': 32, 'ISK': 5, 'ARS': 24, 'IDR': 3, 'VEB': 5, 'LTL': 1, 'CLP': 3, 'PEN': 1, 'PKR': 4, 'UAH': 8, 'COP': 4, 'HRK': 1, 'RON': 1, 'IRR': 4, 'DOP': 4, 'ILS': 1, 'AMD': 1, 'VND': 1, 'BDT': 1, 'AED': 1, 'NGN': 1}\n"
     ]
    }
   ],
   "source": [
    "import re\n",
    "\n",
    "currency = {}\n",
    "f_info = open(\"../crawler/spider_info.tsv\",'r')\n",
    "\n",
    "for line in f_info:\n",
    "    budget = line.split('\\t')[1]\n",
    "    if budget[0] == '$':\n",
    "        continue\n",
    "    else:\n",
    "        budget_currency = re.search('[A-Z][A-Z][A-Z]', budget)\n",
    "        try:\n",
    "            currency[budget_currency.group(0)] += 1\n",
    "        except:\n",
    "            currency[budget_currency.group(0)] = 1\n",
    "\n",
    "f_info.close()\n",
    "\n",
    "print(currency)\n",
    "\n",
    "change = {'EUR' : (0.8643+1.1593)/2,\n",
    "      'AUD' : (0.5324+0.7141)/2,\n",
    "      'CAD' : (0.6629+0.7710)/2,\n",
    "      'BRL' : (0.5378+0.2686)/2,\n",
    "      'GBP' : (1.4727+1.3166)/2,\n",
    "      'INR' : (0.0216+0.0135)/2,\n",
    "      'CNY' : (0.1208+0.1445)/2,\n",
    "      'HKD' : (0.1283+0.1276)/2,\n",
    "      'DKK' : (0.1161+0.1553)/2,\n",
    "      'NOK' : (0.1161+0.1553)/2,\n",
    "      'HUF' : (0.0032+0.0035)/2,\n",
    "      'JPY' : (0.0093+0.0089)/2,\n",
    "      'ZAR' : (0.1340+0.0696)/2,\n",
    "      'SGD' : (0.5700+0.7271)/2,\n",
    "      }\n",
    "\n",
    "f_info = open(\"../crawler/spider_info.tsv\",'r')\n",
    "f_info_digit = open(\"../crawler/spider_info_digit.tsv\",'w')\n",
    "f_info_digit.write(\"tconst\tBudget\tBox_Office\tStar_1\tStar_2\tStar_3\tStar_num1\tStar_num2\tStar_num3\\n\")\n",
    "for line in f_info:\n",
    "    line = line.split('\\t')\n",
    "    line[1] = line[1].replace(',','')\n",
    "    line[2] = line[2].replace(',','')\n",
    "    line[2] = line[2][1:]\n",
    "    if line[1][0] == '$': \n",
    "        line[1] = line[1][1:]\n",
    "    else:\n",
    "        try:\n",
    "            line[1] = str(int(change[line[1][:3]] * int(line[1][3:])))\n",
    "\n",
    "        except:\n",
    "            continue\n",
    "    f_info_digit.write('\\t'.join(line))\n",
    "\n",
    "f_info.close()\n",
    "f_info_digit.close()"
   ]
  },
  {
   "cell_type": "markdown",
   "metadata": {},
   "source": [
    "### 1.7 Concat storyline, box office and other info into one file\n",
    "\n"
   ]
  },
  {
   "cell_type": "code",
   "execution_count": 11,
   "metadata": {},
   "outputs": [],
   "source": [
    "f_digit = pd.read_csv('../crawler/spider_info_digit.tsv', sep='\\t', index_col=0)\n",
    "f_part_2 = pd.read_csv('../data/movie_2000_to_2018_add_crew_rating.tsv', sep='\\t', index_col=0)\n",
    "f_story = pd.read_csv('../crawler/spider_story.tsv', sep='\\t', index_col=0)\n",
    "\n",
    "\n",
    "for row in f_story.iterrows():\n",
    "    row[1]['Story_Line'] = row[1]['Story_Line'].split(' Written by')[0]\n",
    "\n",
    "imdb = pd.concat([f_digit, f_part_2, f_story], axis = 1, join='inner')"
   ]
  },
  {
   "cell_type": "markdown",
   "metadata": {},
   "source": [
    "### 1.8 We add Ratio and Ratio Bool into dataset\n",
    "\n",
    "What we are going to do is to predict the rating of a movie and whether it is profitable. So we calculate the `Ratio = Box Office / Budget`. If Ratio > 1, then the movie is profitable, otherwise it is non-profitable. "
   ]
  },
  {
   "cell_type": "code",
   "execution_count": 12,
   "metadata": {},
   "outputs": [],
   "source": [
    "imdb['Ratio'] = imdb['Box_Office'] / (imdb['Budget'] + 1)\n",
    "imdb['Profitable'] = imdb['Ratio'] >= 1\n",
    "imdb = imdb.drop(imdb[(imdb['Ratio']>10) | (imdb['Budget'] < 10000) | (imdb['Ratio']<0.05)].index)\n",
    "imdb.to_csv('../data/imdb.tsv', sep='\\t')"
   ]
  },
  {
   "cell_type": "markdown",
   "metadata": {},
   "source": [
    "### Split imdb.tsv into train.tsv and val.tsv\n",
    "\n",
    "if you want to retrain the model, you can split the imdb.tsv.\n",
    "\n",
    "If you just want to validate the trained model downloading from github, you should use the matched train.tsv and val.tsv on github. Otherwise, spliting new dataset will cause error because the training and validating dataset are changed."
   ]
  },
  {
   "cell_type": "code",
   "execution_count": null,
   "metadata": {},
   "outputs": [],
   "source": [
    "train = imdb.sample(frac=0.8)\n",
    "val = imdb.drop(train.index)\n",
    "train.to_csv(\"../data/train.tsv\",sep='\\t',index=None)\n",
    "val.to_csv(\"../data/val.tsv\",sep='\\t',index=None)"
   ]
  }
 ],
 "metadata": {
  "kernelspec": {
   "display_name": "Python 3",
   "language": "python",
   "name": "python3"
  },
  "language_info": {
   "codemirror_mode": {
    "name": "ipython",
    "version": 3
   },
   "file_extension": ".py",
   "mimetype": "text/x-python",
   "name": "python",
   "nbconvert_exporter": "python",
   "pygments_lexer": "ipython3",
   "version": "3.7.3"
  }
 },
 "nbformat": 4,
 "nbformat_minor": 2
}
