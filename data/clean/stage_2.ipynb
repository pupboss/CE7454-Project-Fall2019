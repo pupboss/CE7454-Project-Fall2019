{
 "cells": [
  {
   "cell_type": "code",
   "execution_count": 10,
   "metadata": {},
   "outputs": [
    {
     "name": "stdout",
     "output_type": "stream",
     "text": [
      "       Average_Rating     Num_Voters\n",
      "count     8278.000000    8278.000000\n",
      "mean         6.117130   46583.926432\n",
      "std          1.103026  115192.909952\n",
      "min          1.100000       5.000000\n",
      "25%          5.500000     649.000000\n",
      "50%          6.200000    4600.000000\n",
      "75%          6.900000   36854.750000\n",
      "max          9.700000 2111245.000000\n"
     ]
    }
   ],
   "source": [
    "import pandas as pd\n",
    "pd.set_option('display.float_format',lambda x : '%.6f' % x)\n",
    "\n",
    "ratings = pd.read_csv('../imdb.tsv', usecols=[15, 16], delimiter='\\t')\n",
    "print(ratings.describe())"
   ]
  },
  {
   "cell_type": "code",
   "execution_count": null,
   "metadata": {},
   "outputs": [],
   "source": []
  }
 ],
 "metadata": {
  "kernelspec": {
   "display_name": "Python 3",
   "language": "python",
   "name": "python3"
  },
  "language_info": {
   "codemirror_mode": {
    "name": "ipython",
    "version": 3
   },
   "file_extension": ".py",
   "mimetype": "text/x-python",
   "name": "python",
   "nbconvert_exporter": "python",
   "pygments_lexer": "ipython3",
   "version": "3.7.4"
  }
 },
 "nbformat": 4,
 "nbformat_minor": 2
}
