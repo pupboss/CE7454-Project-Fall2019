{
 "cells": [
  {
   "cell_type": "markdown",
   "metadata": {},
   "source": [
    "# First we download dataset from IMDB offical website\n",
    "\n",
    "The dataset includes not only movies, but also tv shows, shorts, dramas and etc. that we don't want in this movie project.\n",
    "\n",
    "So we need to filter the movies out and save it to `movie_list.csv`\n",
    "\n",
    "It may take few minutes..."
   ]
  },
  {
   "cell_type": "code",
   "execution_count": 10,
   "metadata": {},
   "outputs": [
    {
     "name": "stdout",
     "output_type": "stream",
     "text": [
      "progress:99.999rogress:3.371progress:6.258progress:48.102progress:50.294\r"
     ]
    }
   ],
   "source": [
    "file_basics = open('../dataset/title.basics.tsv','r')\n",
    "file_movie_list = open('../dataset/movie_list.tsv','w')\n",
    "\n",
    "# write header\n",
    "line = file_basics.readline().split('\\t')\n",
    "file_movie_list.write('\\t'.join([line[0],line[2],line[5],line[7],line[8]]))\n",
    "\n",
    "# filter out all the movies with available Year Run_time\n",
    "len_file_basics = 6218836\n",
    "for line_num, line in enumerate(file_basics):\n",
    "    line = line.split('\\t')\n",
    "    if line[1] == 'movie' and line[2]!='\\\\N' and line[5]!='\\\\N' and line[7]!='\\\\N':\n",
    "        file_movie_list.write('\\t'.join([line[0],line[2],line[5],line[7],line[8]]))\n",
    "        print(\"progress:{:.3f}\".format(line_num / len_file_basics * 100),end='\\r',flush=True)\n",
    "file_basics.close()\n",
    "file_movie_list.close()\n"
   ]
  },
  {
   "cell_type": "markdown",
   "metadata": {},
   "source": [
    "### After we filter out movies, let us see the distribution of movies on Years and Run time"
   ]
  },
  {
   "cell_type": "code",
   "execution_count": 14,
   "metadata": {},
   "outputs": [
    {
     "data": {
      "text/html": [
       "<div>\n",
       "<style scoped>\n",
       "    .dataframe tbody tr th:only-of-type {\n",
       "        vertical-align: middle;\n",
       "    }\n",
       "\n",
       "    .dataframe tbody tr th {\n",
       "        vertical-align: top;\n",
       "    }\n",
       "\n",
       "    .dataframe thead th {\n",
       "        text-align: right;\n",
       "    }\n",
       "</style>\n",
       "<table border=\"1\" class=\"dataframe\">\n",
       "  <thead>\n",
       "    <tr style=\"text-align: right;\">\n",
       "      <th></th>\n",
       "      <th>Year</th>\n",
       "      <th>Run_time</th>\n",
       "    </tr>\n",
       "  </thead>\n",
       "  <tbody>\n",
       "    <tr>\n",
       "      <td>count</td>\n",
       "      <td>329291.000000</td>\n",
       "      <td>329291.000000</td>\n",
       "    </tr>\n",
       "    <tr>\n",
       "      <td>mean</td>\n",
       "      <td>1992.112016</td>\n",
       "      <td>88.330622</td>\n",
       "    </tr>\n",
       "    <tr>\n",
       "      <td>std</td>\n",
       "      <td>25.882660</td>\n",
       "      <td>146.499533</td>\n",
       "    </tr>\n",
       "    <tr>\n",
       "      <td>min</td>\n",
       "      <td>1894.000000</td>\n",
       "      <td>1.000000</td>\n",
       "    </tr>\n",
       "    <tr>\n",
       "      <td>25%</td>\n",
       "      <td>1976.000000</td>\n",
       "      <td>72.000000</td>\n",
       "    </tr>\n",
       "    <tr>\n",
       "      <td>50%</td>\n",
       "      <td>2003.000000</td>\n",
       "      <td>88.000000</td>\n",
       "    </tr>\n",
       "    <tr>\n",
       "      <td>75%</td>\n",
       "      <td>2013.000000</td>\n",
       "      <td>100.000000</td>\n",
       "    </tr>\n",
       "    <tr>\n",
       "      <td>max</td>\n",
       "      <td>2022.000000</td>\n",
       "      <td>59460.000000</td>\n",
       "    </tr>\n",
       "  </tbody>\n",
       "</table>\n",
       "</div>"
      ],
      "text/plain": [
       "                Year       Run_time\n",
       "count  329291.000000  329291.000000\n",
       "mean     1992.112016      88.330622\n",
       "std        25.882660     146.499533\n",
       "min      1894.000000       1.000000\n",
       "25%      1976.000000      72.000000\n",
       "50%      2003.000000      88.000000\n",
       "75%      2013.000000     100.000000\n",
       "max      2022.000000   59460.000000"
      ]
     },
     "execution_count": 14,
     "metadata": {},
     "output_type": "execute_result"
    }
   ],
   "source": [
    "import pandas as pd\n",
    "file_movie_list = pd.read_csv('../dataset/movie_list.tsv', delimiter='\\t')\n",
    "file_movie_list.describe()"
   ]
  },
  {
   "cell_type": "code",
   "execution_count": 15,
   "metadata": {},
   "outputs": [
    {
     "data": {
      "text/plain": [
       "array([[<matplotlib.axes._subplots.AxesSubplot object at 0x126128fd0>]],\n",
       "      dtype=object)"
      ]
     },
     "execution_count": 15,
     "metadata": {},
     "output_type": "execute_result"
    },
    {
     "data": {
      "image/png": "[encoded data removed]",
      "text/plain": [
       "<Figure size 1080x720 with 1 Axes>"
      ]
     },
     "metadata": {
      "needs_background": "light"
     },
     "output_type": "display_data"
    }
   ],
   "source": [
    "import matplotlib.pyplot as plt\n",
    "file_movie_list.hist(column=\"Year\",figsize=(15,10),bins=256)"
   ]
  },
  {
   "cell_type": "code",
   "execution_count": 9,
   "metadata": {},
   "outputs": [],
   "source": [
    "file_movie_list[(file_movie_list['Year']>=2000) &\n",
    "                (file_movie_list['Year']<=2018) &\n",
    "                (file_movie_list['Run_time']<=180) &\n",
    "                (file_movie_list['Run_time']>=60)].to_csv(\n",
    "    '../dataset/movie_2000_to_2018.tsv', sep='\\t', index=None)"
   ]
  },
  {
   "cell_type": "code",
   "execution_count": 10,
   "metadata": {
    "scrolled": true
   },
   "outputs": [
    {
     "data": {
      "text/html": [
       "<div>\n",
       "<style scoped>\n",
       "    .dataframe tbody tr th:only-of-type {\n",
       "        vertical-align: middle;\n",
       "    }\n",
       "\n",
       "    .dataframe tbody tr th {\n",
       "        vertical-align: top;\n",
       "    }\n",
       "\n",
       "    .dataframe thead th {\n",
       "        text-align: right;\n",
       "    }\n",
       "</style>\n",
       "<table border=\"1\" class=\"dataframe\">\n",
       "  <thead>\n",
       "    <tr style=\"text-align: right;\">\n",
       "      <th></th>\n",
       "      <th>Year</th>\n",
       "      <th>Run_time</th>\n",
       "    </tr>\n",
       "  </thead>\n",
       "  <tbody>\n",
       "    <tr>\n",
       "      <td>count</td>\n",
       "      <td>140853.000000</td>\n",
       "      <td>140853.000000</td>\n",
       "    </tr>\n",
       "    <tr>\n",
       "      <td>mean</td>\n",
       "      <td>2011.176482</td>\n",
       "      <td>93.231049</td>\n",
       "    </tr>\n",
       "    <tr>\n",
       "      <td>std</td>\n",
       "      <td>4.991285</td>\n",
       "      <td>20.118494</td>\n",
       "    </tr>\n",
       "    <tr>\n",
       "      <td>min</td>\n",
       "      <td>2000.000000</td>\n",
       "      <td>60.000000</td>\n",
       "    </tr>\n",
       "    <tr>\n",
       "      <td>25%</td>\n",
       "      <td>2008.000000</td>\n",
       "      <td>80.000000</td>\n",
       "    </tr>\n",
       "    <tr>\n",
       "      <td>50%</td>\n",
       "      <td>2012.000000</td>\n",
       "      <td>90.000000</td>\n",
       "    </tr>\n",
       "    <tr>\n",
       "      <td>75%</td>\n",
       "      <td>2015.000000</td>\n",
       "      <td>102.000000</td>\n",
       "    </tr>\n",
       "    <tr>\n",
       "      <td>max</td>\n",
       "      <td>2018.000000</td>\n",
       "      <td>180.000000</td>\n",
       "    </tr>\n",
       "  </tbody>\n",
       "</table>\n",
       "</div>"
      ],
      "text/plain": [
       "                Year       Run_time\n",
       "count  140853.000000  140853.000000\n",
       "mean     2011.176482      93.231049\n",
       "std         4.991285      20.118494\n",
       "min      2000.000000      60.000000\n",
       "25%      2008.000000      80.000000\n",
       "50%      2012.000000      90.000000\n",
       "75%      2015.000000     102.000000\n",
       "max      2018.000000     180.000000"
      ]
     },
     "execution_count": 10,
     "metadata": {},
     "output_type": "execute_result"
    }
   ],
   "source": [
    "file_movie_list = pd.read_csv('../dataset/movie_2000_to_2018.tsv', delimiter='\\t')\n",
    "file_movie_list.describe()"
   ]
  },
  {
   "cell_type": "code",
   "execution_count": 11,
   "metadata": {
    "scrolled": false
   },
   "outputs": [
    {
     "data": {
      "text/plain": [
       "array([[<matplotlib.axes._subplots.AxesSubplot object at 0x126e37890>]],\n",
       "      dtype=object)"
      ]
     },
     "execution_count": 11,
     "metadata": {},
     "output_type": "execute_result"
    },
    {
     "data": {
      "image/png": "[encoded data removed]",
      "text/plain": [
       "<Figure size 1080x720 with 1 Axes>"
      ]
     },
     "metadata": {
      "needs_background": "light"
     },
     "output_type": "display_data"
    }
   ],
   "source": [
    "file_movie_list.hist(column=\"Year\",figsize=(15,10),bins=37)"
   ]
  },
  {
   "cell_type": "code",
   "execution_count": 12,
   "metadata": {},
   "outputs": [
    {
     "data": {
      "text/plain": [
       "array([[<matplotlib.axes._subplots.AxesSubplot object at 0x128014fd0>]],\n",
       "      dtype=object)"
      ]
     },
     "execution_count": 12,
     "metadata": {},
     "output_type": "execute_result"
    },
    {
     "data": {
      "image/png": "[encoded data removed]",
      "text/plain": [
       "<Figure size 1080x720 with 1 Axes>"
      ]
     },
     "metadata": {
      "needs_background": "light"
     },
     "output_type": "display_data"
    }
   ],
   "source": [
    "file_movie_list.hist(column=\"Run_time\",figsize=(15,10),bins=240)"
   ]
  },
  {
   "cell_type": "markdown",
   "metadata": {},
   "source": [
    "## Then we add ratings, writers, directors and other elements from `crew`, `ratings` to `movie_2000_to_2018_part_1.csv`"
   ]
  },
  {
   "cell_type": "code",
   "execution_count": 41,
   "metadata": {},
   "outputs": [],
   "source": [
    "file_crew = open('../dataset/title.crew.tsv','r')\n",
    "file_movie_2000_to_2018 = open('../dataset/movie_2000_to_2018.tsv','r')\n",
    "file_movie_2000_to_2018_part_1 = open('../dataset/movie_2000_to_2018_part_1.tsv','w')\n",
    "_ = file_crew.readline()\n",
    "_ = file_movie_2000_to_2018.readline()\n",
    "for step, line in enumerate(file_movie_2000_to_2018):\n",
    "    tt = line.split('\\t')[0]\n",
    "    tt_num = int(tt.split('tt')[1] + '0' * (10-len(tt)))\n",
    "    while True:\n",
    "        line_crew = file_crew.readline()\n",
    "        line_crew = line_crew.split('\\t')\n",
    "        crew_tt = line_crew[0]\n",
    "        if int(crew_tt.split('tt')[1]+ '0' * (10-len(crew_tt))) >= tt_num:\n",
    "            break    \n",
    "    if int(crew_tt.split('tt')[1]+ '0' * (10-len(crew_tt))) > tt_num:\n",
    "        continue  \n",
    "    directors = line_crew[1]\n",
    "    writers = line_crew[2].split('\\n')[0]\n",
    "    new_line = [line.split('\\n')[0], directors, writers]\n",
    "    new_line = '\\t'.join(new_line) + '\\n'\n",
    "    file_movie_2000_to_2018_part_1.write(new_line)\n",
    "    \n",
    "\n",
    "file_crew.close()\n",
    "file_movie_2000_to_2018.close()\n",
    "file_movie_2000_to_2018_part_1.close() \n",
    "    \n"
   ]
  },
  {
   "cell_type": "code",
   "execution_count": 42,
   "metadata": {},
   "outputs": [],
   "source": [
    "file_ratings = open('../dataset/title.ratings.tsv','r')\n",
    "file_movie_2000_to_2018_part_1 = open('../dataset/movie_2000_to_2018_part_1.tsv','r')\n",
    "file_movie_2000_to_2018_part_2 = open('../dataset/movie_2000_to_2018_part_2.tsv','w')\n",
    "_ = file_ratings.readline()\n",
    "_ = file_movie_2000_to_2018_part_1.readline()\n",
    "_ = file_ratings.readline()\n",
    "for step, line in enumerate(file_movie_2000_to_2018_part_1):\n",
    "    tt = line.split('\\t')[0]\n",
    "    tt_num = int(tt.split('tt')[1] + '0' * (10-len(tt)))\n",
    "    while True:\n",
    "        line_ratings = file_ratings.readline()\n",
    "        line_ratings = line_ratings.split('\\t')\n",
    "        ratings_tt = line_ratings[0]\n",
    "        if int(ratings_tt.split('tt')[1]+ '0' * (10-len(ratings_tt))) >= tt_num:\n",
    "            break    \n",
    "    if int(ratings_tt.split('tt')[1]+ '0' * (10-len(ratings_tt))) > tt_num:\n",
    "        continue  \n",
    "    Rating = line_ratings[1]\n",
    "    numVoters = line_ratings[2].split('\\n')[0]\n",
    "    new_line = [line.split('\\n')[0], Rating, numVoters]\n",
    "    new_line = '\\t'.join(new_line) + '\\n'\n",
    "    file_movie_2000_to_2018_part_2.write(new_line)\n",
    "    \n",
    "\n",
    "file_ratings.close()\n",
    "file_movie_2000_to_2018_part_1.close()\n",
    "file_movie_2000_to_2018_part_2.close() "
   ]
  },
  {
   "cell_type": "markdown",
   "metadata": {},
   "source": [
    "## Then we run the spider.py according to `movie_2000_to_2018_part_2.tsv` to download poster image and other information such as actors and storyline to tsv file"
   ]
  },
  {
   "cell_type": "code",
   "execution_count": null,
   "metadata": {},
   "outputs": [],
   "source": []
  }
 ],
 "metadata": {
  "kernelspec": {
   "display_name": "Python [conda env:meng] *",
   "language": "python",
   "name": "conda-env-meng-py"
  },
  "language_info": {
   "codemirror_mode": {
    "name": "ipython",
    "version": 3
   },
   "file_extension": ".py",
   "mimetype": "text/x-python",
   "name": "python",
   "nbconvert_exporter": "python",
   "pygments_lexer": "ipython3",
   "version": "3.7.4"
  }
 },
 "nbformat": 4,
 "nbformat_minor": 2
}
